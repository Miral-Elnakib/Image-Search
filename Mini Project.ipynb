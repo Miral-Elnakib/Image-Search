{
 "cells": [
  {
   "cell_type": "markdown",
   "id": "d1326d5a",
   "metadata": {},
   "source": [
    "# Importing Libraries"
   ]
  },
  {
   "cell_type": "code",
   "execution_count": 1,
   "id": "eb787ef2",
   "metadata": {},
   "outputs": [],
   "source": [
    "import os\n",
    "import cv2\n",
    "import matplotlib.pyplot as plt\n",
    "import numpy as np\n",
    "from skimage import feature\n",
    "from scipy.fftpack import dct\n",
    "from sklearn.decomposition import PCA\n",
    "from tensorflow.keras.preprocessing import image\n",
    "from scipy.spatial import distance\n",
    "import time"
   ]
  },
  {
   "cell_type": "markdown",
   "id": "57e32d25",
   "metadata": {},
   "source": [
    "# Loading Training / Testing Datasets"
   ]
  },
  {
   "cell_type": "code",
   "execution_count": 2,
   "id": "ddab3048",
   "metadata": {},
   "outputs": [],
   "source": [
    "# Function to read image paths from a text file\n",
    "def read_image_paths(file_path):\n",
    "    with open(file_path, 'r') as file:\n",
    "        paths = file.read().splitlines()\n",
    "    return paths\n"
   ]
  },
  {
   "cell_type": "code",
   "execution_count": 3,
   "id": "81f9ecb8",
   "metadata": {},
   "outputs": [],
   "source": [
    "# Function to load images given a list of paths\n",
    "def load_images(image_paths):\n",
    "    images = []\n",
    "    for path in image_paths:\n",
    "        # 'images' is the folder containing your image files\n",
    "        image_path = os.path.join(r'C:\\Users\\M\\Downloads\\dtd-r1.0.1\\dtd\\images', path)\n",
    "        \n",
    "        # Using OpenCV to read the image\n",
    "        img = cv2.imread(image_path)\n",
    "        images.append(img)  # Append the actual image, not the image path\n",
    "    \n",
    "    return images\n"
   ]
  },
  {
   "cell_type": "code",
   "execution_count": 4,
   "id": "bf84cf69",
   "metadata": {},
   "outputs": [],
   "source": [
    "train_file_path = r\"C:\\Users\\M\\Downloads\\dtd-r1.0.1\\dtd\\labels\\train1.txt\"\n",
    "train_image_paths = read_image_paths(train_file_path)\n",
    "train_images = load_images(train_image_paths)"
   ]
  },
  {
   "cell_type": "code",
   "execution_count": 5,
   "id": "93a812fe",
   "metadata": {},
   "outputs": [],
   "source": [
    "test_file_path = r\"C:\\Users\\M\\Downloads\\dtd-r1.0.1\\dtd\\labels\\test1.txt\"\n",
    "test_image_paths = read_image_paths(test_file_path)\n",
    "test_images = load_images(test_image_paths)"
   ]
  },
  {
   "cell_type": "markdown",
   "id": "6d3ca17e",
   "metadata": {},
   "source": [
    "# Traditional Feature Extraction"
   ]
  },
  {
   "cell_type": "code",
   "execution_count": 6,
   "id": "1946de69",
   "metadata": {},
   "outputs": [],
   "source": [
    "# Function to extract color histograms from a set of images\n",
    "def extract_color_histograms(images):\n",
    "    if not isinstance(images, list):\n",
    "        images = [images]  # Convert single image to a list\n",
    "    histograms = []\n",
    "    for image in images:\n",
    "        hist = cv2.calcHist([image], [0, 1, 2], None, [8, 8, 8], [0, 256, 0, 256, 0, 256])\n",
    "        hist = cv2.normalize(hist, hist).flatten()\n",
    "        histograms.append(hist)\n",
    "    return np.array(histograms)"
   ]
  },
  {
   "cell_type": "code",
   "execution_count": 7,
   "id": "e7ecceaa",
   "metadata": {},
   "outputs": [],
   "source": [
    "from skimage import feature\n",
    "\n",
    "# Function to extract Local Binary Patterns (LBP) from a set of images\n",
    "def extract_lbps(images):\n",
    "    lbps = []\n",
    "    for image in images:\n",
    "        gray = cv2.cvtColor(image, cv2.COLOR_BGR2GRAY)\n",
    "        lbp = feature.local_binary_pattern(gray, P=8, R=1, method='uniform')\n",
    "        hist, _ = np.histogram(lbp.ravel(), bins=np.arange(0, 59), range=[0, 58])\n",
    "        hist = hist.astype(\"float\")\n",
    "        hist /= (hist.sum() + 1e-7)\n",
    "        lbps.append(hist)\n",
    "    return np.array(lbps)\n"
   ]
  },
  {
   "cell_type": "code",
   "execution_count": 8,
   "id": "7252a1dd",
   "metadata": {},
   "outputs": [],
   "source": [
    "class DCTImageDescriptor:\n",
    "    def __init__(self, num_coefficients=16):\n",
    "        self.num_coefficients = num_coefficients\n",
    "\n",
    "    def extract_low_frequency_dct_features(self, image):\n",
    "        # Apply DCT to the entire image\n",
    "        dct_image = dct(dct(image, axis=0, norm='ortho'), axis=1, norm='ortho')\n",
    "\n",
    "        # Extract low-frequency DCT coefficients from the top-left \n",
    "        low_frequency_dct = dct_image[:self.num_coefficients, :self.num_coefficients]\n",
    "\n",
    "        # Flatten the coefficients \n",
    "        feature_vector = low_frequency_dct.flatten()\n",
    "\n",
    "        return feature_vector\n",
    "\n",
    "    def normalize_feature_vector(self, feature_vector):\n",
    "        # Apply Z-score normalization \n",
    "        mean = np.mean(feature_vector)\n",
    "        std = np.std(feature_vector)\n",
    "        normalized_feature_vector = (feature_vector - mean) / std\n",
    "\n",
    "        return normalized_feature_vector\n",
    "\n",
    "    def create_descriptor(self, image):\n",
    "        # Extract low-frequency DCT features\n",
    "        feature_vector = self.extract_low_frequency_dct_features(image)\n",
    "\n",
    "        # Normalize the feature vector\n",
    "        normalized_feature_vector = self.normalize_feature_vector(feature_vector)\n",
    "\n",
    "        return normalized_feature_vector\n",
    "\n",
    "\n"
   ]
  },
  {
   "cell_type": "code",
   "execution_count": 9,
   "id": "54db2585",
   "metadata": {},
   "outputs": [],
   "source": [
    "# Extract DCT features for all images in the training set\n",
    "dct_descriptor = DCTImageDescriptor(num_coefficients=16)\n",
    "train_dct_features = np.array([dct_descriptor.create_descriptor(image) for image in train_images])\n"
   ]
  },
  {
   "cell_type": "code",
   "execution_count": 10,
   "id": "677a2dba",
   "metadata": {},
   "outputs": [],
   "source": [
    "# Extract features for all images in the training set\n",
    "train_color_histograms = extract_color_histograms(train_images)\n"
   ]
  },
  {
   "cell_type": "code",
   "execution_count": 11,
   "id": "eded5022",
   "metadata": {},
   "outputs": [],
   "source": [
    "train_lbps = extract_lbps(train_images)"
   ]
  },
  {
   "cell_type": "code",
   "execution_count": 12,
   "id": "ff267d7c",
   "metadata": {},
   "outputs": [
    {
     "data": {
      "image/png": "[encoded data removed]",
      "text/plain": [
       "<Figure size 1080x360 with 4 Axes>"
      ]
     },
     "metadata": {
      "needs_background": "light"
     },
     "output_type": "display_data"
    }
   ],
   "source": [
    "# Select a query image index from the test set\n",
    "query_image_index = 0\n",
    "query_image = test_images[query_image_index]\n",
    "\n",
    "# Extract features for the query image using Color Histogram\n",
    "query_color_histogram = extract_color_histograms([query_image])[0]\n",
    "\n",
    "# Extract features for the query image using Local Binary Patterns (LBP)\n",
    "query_lbp = extract_lbps([query_image])[0]\n",
    "\n",
    "# Extract features for the query image using DCT\n",
    "query_dct = dct_descriptor.create_descriptor(query_image)\n",
    "\n",
    "# Display the query image and its extracted features\n",
    "plt.figure(figsize=(15, 5))\n",
    "\n",
    "# Display the query image\n",
    "plt.subplot(1, 4, 1)\n",
    "plt.imshow(cv2.cvtColor(query_image, cv2.COLOR_BGR2RGB))\n",
    "plt.title('Query Image')\n",
    "plt.axis('off')\n",
    "\n",
    "# Display Color Histogram features\n",
    "plt.subplot(1, 4, 2)\n",
    "plt.plot(query_color_histogram, color='red')\n",
    "plt.title('Color Histogram')\n",
    "plt.grid()\n",
    "\n",
    "# Display LBP features\n",
    "plt.subplot(1, 4, 3)\n",
    "plt.plot(query_lbp, color='green')\n",
    "plt.title('LBP')\n",
    "plt.grid()\n",
    "\n",
    "# Display DCT features\n",
    "plt.subplot(1, 4, 4)\n",
    "plt.plot(query_dct, color='blue')\n",
    "plt.title('DCT')\n",
    "plt.grid()\n",
    "\n",
    "plt.show()\n"
   ]
  },
  {
   "cell_type": "markdown",
   "id": "ea73ed64",
   "metadata": {},
   "source": [
    "# Deep Feature Extraction : VGG16 Model"
   ]
  },
  {
   "cell_type": "code",
   "execution_count": 13,
   "id": "d404245e",
   "metadata": {},
   "outputs": [
    {
     "name": "stdout",
     "output_type": "stream",
     "text": [
      "59/59 [==============================] - 150s 3s/step\n",
      "1/1 [==============================] - 0s 195ms/step\n"
     ]
    },
    {
     "data": {
      "image/png": "[encoded data removed]",
      "text/plain": [
       "<Figure size 1080x360 with 2 Axes>"
      ]
     },
     "metadata": {
      "needs_background": "light"
     },
     "output_type": "display_data"
    }
   ],
   "source": [
    "from tensorflow.keras.applications.vgg16 import VGG16, preprocess_input\n",
    "from tensorflow.keras.models import Model\n",
    "\n",
    "# Load VGG16 model pre-trained on ImageNet data\n",
    "base_model = VGG16(weights='imagenet', include_top=False, input_shape=(224, 224, 3))\n",
    "\n",
    "# Function to preprocess images for VGG16\n",
    "def preprocess_images_vgg16(images):\n",
    "    processed_images = [preprocess_input(cv2.resize(image, (224, 224))) for image in images]\n",
    "    return np.array(processed_images)\n",
    "\n",
    "# Function to extract features using VGG16\n",
    "def extract_features_vgg16(images):\n",
    "    # Preprocess the images for VGG16\n",
    "    processed_images = preprocess_images_vgg16(images)\n",
    "\n",
    "    # Extract features from the last convolutional layer of VGG16\n",
    "    feature_extractor = Model(inputs=base_model.input, outputs=base_model.get_layer('block5_conv3').output)\n",
    "    features = feature_extractor.predict(processed_images, verbose=1)\n",
    "\n",
    "    return features\n",
    "\n",
    "# Extract VGG16 features for all images in the training set\n",
    "train_vgg16_features = extract_features_vgg16(train_images)\n",
    "\n",
    "# Extract VGG16 features for the query image\n",
    "query_vgg16_features = extract_features_vgg16([query_image])\n",
    "\n",
    "# Display the query image and its extracted VGG16 features\n",
    "plt.figure(figsize=(15, 5))\n",
    "\n",
    "# Display the query image\n",
    "plt.subplot(1, 5, 1)\n",
    "plt.imshow(cv2.cvtColor(query_image, cv2.COLOR_BGR2RGB))\n",
    "plt.title('Query Image')\n",
    "plt.axis('off')\n",
    "\n",
    "# Display VGG16 features\n",
    "plt.subplot(1, 5, 2)\n",
    "plt.plot(query_vgg16_features.flatten(), color='purple')\n",
    "plt.title('VGG16 Features')\n",
    "plt.grid()\n",
    "\n",
    "plt.show()\n"
   ]
  },
  {
   "cell_type": "code",
   "execution_count": 14,
   "id": "859c169f",
   "metadata": {},
   "outputs": [],
   "source": [
    "# Combine traditional features with VGG16 features for the training set\n",
    "train_combined_features = np.concatenate((train_color_histograms, train_lbps, train_dct_features.reshape(train_dct_features.shape[0], -1), train_vgg16_features.reshape(train_vgg16_features.shape[0], -1)), axis=1)\n"
   ]
  },
  {
   "cell_type": "code",
   "execution_count": 15,
   "id": "cba60634",
   "metadata": {},
   "outputs": [],
   "source": [
    " # Combine traditional features with VGG16 features for the query image\n",
    "query_combined_features = np.concatenate((query_color_histogram, query_lbp, query_dct, query_vgg16_features.flatten()), axis=None)"
   ]
  },
  {
   "cell_type": "markdown",
   "id": "72fed3aa",
   "metadata": {},
   "source": [
    "# Dimensionality Reduction:"
   ]
  },
  {
   "cell_type": "code",
   "execution_count": 21,
   "id": "a5dc564d",
   "metadata": {},
   "outputs": [],
   "source": [
    "def apply_pca(features, num_components):\n",
    "    pca = PCA(n_components=num_components)\n",
    "    pca_features = pca.fit_transform(features)\n",
    "    return pca, pca_features\n"
   ]
  },
  {
   "cell_type": "code",
   "execution_count": 37,
   "id": "fe0e6aa6",
   "metadata": {},
   "outputs": [],
   "source": [
    " num_components = 50  # You can adjust this value based on your requirements\n",
    "\n",
    "# Apply PCA to color histograms\n",
    "pca_color_histograms, train_pca_color_histograms = apply_pca(train_color_histograms, num_components)\n",
    "query_pca_color_histogram = pca_color_histograms.transform([query_color_histogram])\n",
    "\n",
    "# Apply PCA to LBPs\n",
    "pca_lbps, train_pca_lbps = apply_pca(train_lbps, num_components)\n",
    "query_pca_lbp = pca_lbps.transform([query_lbp])\n",
    "\n",
    "# Apply PCA to DCT features\n",
    "pca_dct, train_pca_dct = apply_pca(train_dct_features, num_components)\n",
    "query_pca_dct = pca_dct.transform([query_dct])\n",
    "\n",
    "# Combine the PCA-transformed traditional features with VGG16 features for the training set\n",
    "train_combined_pca_features = np.concatenate((\n",
    "    train_pca_color_histograms,\n",
    "    train_pca_lbps,\n",
    "    train_pca_dct,\n",
    "    train_vgg16_features.reshape(train_vgg16_features.shape[0], -1)\n",
    "), axis=1)\n",
    "\n",
    "# Combine the PCA-transformed traditional features with VGG16 features for the query image\n",
    "query_combined_pca_features = np.concatenate((\n",
    "    query_pca_color_histogram.flatten(),\n",
    "    query_pca_lbp.flatten(),\n",
    "    query_pca_dct.flatten(),\n",
    "    query_vgg16_features.flatten()\n",
    "), axis=None)\n"
   ]
  },
  {
   "cell_type": "code",
   "execution_count": 24,
   "id": "0299d084",
   "metadata": {},
   "outputs": [],
   "source": [
    "def distance(vector1, vector2):\n",
    "    \"\"\"Computes the cosine distance between two image features.\"\"\"\n",
    "    return 1.0 - np.dot(vector1, vector2) / (np.linalg.norm(vector1) * np.linalg.norm(vector2))"
   ]
  },
  {
   "cell_type": "code",
   "execution_count": 25,
   "id": "53ac9aab",
   "metadata": {},
   "outputs": [
    {
     "name": "stdout",
     "output_type": "stream",
     "text": [
      "Retrieval time: 0.02425551414489746\n",
      "=================================================================================================================\n",
      "blotchy/blotchy_0009.jpg\n",
      "pitted/pitted_0040.jpg\n",
      "grooved/grooved_0158.jpg\n",
      "fibrous/fibrous_0204.jpg\n",
      "fibrous/fibrous_0176.jpg\n",
      "scaly/scaly_0162.jpg\n",
      "zigzagged/zigzagged_0052.jpg\n",
      "crosshatched/crosshatched_0094.jpg\n",
      "cracked/cracked_0113.jpg\n",
      "stained/stained_0100.jpg\n",
      "=================================================================================================================\n",
      "blotchy/blotchy_0009.jpg\n"
     ]
    }
   ],
   "source": [
    "# Measure the retrieval time\n",
    "start = time.time()\n",
    "\n",
    "# Calculate distances between the query and all training images based on color histograms\n",
    "distances_color = [distance(query_pca_color_histogram[0], train_pca_color_histograms[i]) for i in range(len(train_pca_color_histograms))]\n",
    "idx_closest_10_color = sorted(range(len(distances_color)), key=lambda k: distances_color[k])[:10]\n",
    "\n",
    "# Display retrieval time\n",
    "print('Retrieval time:', time.time() - start)\n",
    "print('=================================================================================================================')\n",
    "\n",
    "# Retrieve and display the paths of the top 10 closest images\n",
    "closest_images_10_color = [train_image_paths[i] for i in idx_closest_10_color]\n",
    "print('\\n'.join(closest_images_10_color))\n",
    "print('=================================================================================================================')\n",
    "\n",
    "# Retrieve and display the path of the closest image\n",
    "closest_images_1_color = [train_image_paths[i] for i in idx_closest_10_color[:1]]\n",
    "print('\\n'.join(closest_images_1_color))\n"
   ]
  },
  {
   "cell_type": "code",
   "execution_count": 26,
   "id": "9d8dfb49",
   "metadata": {},
   "outputs": [
    {
     "name": "stdout",
     "output_type": "stream",
     "text": [
      "Retrieval time: 0.024585247039794922\n",
      "=================================================================================================================\n",
      "grooved/grooved_0078.jpg\n",
      "banded/banded_0051.jpg\n",
      "lined/lined_0038.jpg\n",
      "gauzy/gauzy_0102.jpg\n",
      "grooved/grooved_0057.jpg\n",
      "lined/lined_0037.jpg\n",
      "banded/banded_0060.jpg\n",
      "pleated/pleated_0111.jpg\n",
      "sprinkled/sprinkled_0030.jpg\n",
      "gauzy/gauzy_0192.jpg\n",
      "=================================================================================================================\n",
      "grooved/grooved_0078.jpg\n"
     ]
    }
   ],
   "source": [
    "# Measure the retrieval time for LBPs\n",
    "start = time.time()\n",
    "\n",
    "# Calculate distances between the query and all training images based on LBPs\n",
    "distances_lbp = [distance(query_pca_lbp[0], train_pca_lbps[i]) for i in range(len(train_pca_lbps))]\n",
    "idx_closest_10_lbp = sorted(range(len(distances_lbp)), key=lambda k: distances_lbp[k])[:10]\n",
    "\n",
    "# Display retrieval time\n",
    "print('Retrieval time:', time.time() - start)\n",
    "print('=================================================================================================================')\n",
    "\n",
    "# Retrieve and display the paths of the top 10 closest images for LBPs\n",
    "closest_images_10_lbp = [train_image_paths[i] for i in idx_closest_10_lbp]\n",
    "print('\\n'.join(closest_images_10_lbp))\n",
    "print('=================================================================================================================')\n",
    "\n",
    "# Retrieve and display the path of the closest image for LBPs\n",
    "closest_images_1_lbp = [train_image_paths[i] for i in idx_closest_10_lbp[:1]]\n",
    "print('\\n'.join(closest_images_1_lbp))\n"
   ]
  },
  {
   "cell_type": "code",
   "execution_count": 27,
   "id": "e0d038d2",
   "metadata": {},
   "outputs": [
    {
     "name": "stdout",
     "output_type": "stream",
     "text": [
      "Retrieval time: 0.021927833557128906\n",
      "=================================================================================================================\n",
      "crosshatched/crosshatched_0078.jpg\n",
      "dotted/dotted_0131.jpg\n",
      "zigzagged/zigzagged_0071.jpg\n",
      "woven/woven_0066.jpg\n",
      "zigzagged/zigzagged_0052.jpg\n",
      "woven/woven_0039.jpg\n",
      "polka-dotted/polka-dotted_0206.jpg\n",
      "dotted/dotted_0041.jpg\n",
      "waffled/waffled_0090.jpg\n",
      "wrinkled/wrinkled_0068.jpg\n",
      "=================================================================================================================\n",
      "crosshatched/crosshatched_0078.jpg\n"
     ]
    }
   ],
   "source": [
    "# Measure the retrieval time for DCT\n",
    "start = time.time()\n",
    "\n",
    "# Calculate distances between the query and all training images based on DCT\n",
    "distances_dct = [distance(query_pca_dct[0], train_pca_dct[i]) for i in range(len(train_pca_dct))]\n",
    "idx_closest_10_dct = sorted(range(len(distances_dct)), key=lambda k: distances_dct[k])[:10]\n",
    "\n",
    "# Display retrieval time\n",
    "print('Retrieval time:', time.time() - start)\n",
    "print('=================================================================================================================')\n",
    "\n",
    "# Retrieve and display the paths of the top 10 closest images for DCT\n",
    "closest_images_10_dct = [train_image_paths[i] for i in idx_closest_10_dct]\n",
    "print('\\n'.join(closest_images_10_dct))\n",
    "print('=================================================================================================================')\n",
    "\n",
    "# Retrieve and display the path of the closest image for DCT\n",
    "closest_images_1_dct = [train_image_paths[i] for i in idx_closest_10_dct[:1]]\n",
    "print('\\n'.join(closest_images_1_dct))\n"
   ]
  },
  {
   "cell_type": "code",
   "execution_count": 28,
   "id": "90eae1e2",
   "metadata": {},
   "outputs": [
    {
     "name": "stdout",
     "output_type": "stream",
     "text": [
      "Retrieval time (Deep Features): 0.3893277645111084\n",
      "=================================================================================================================\n",
      "banded/banded_0021.jpg\n",
      "banded/banded_0005.jpg\n",
      "lined/lined_0038.jpg\n",
      "lined/lined_0037.jpg\n",
      "lined/lined_0166.jpg\n",
      "lined/lined_0067.jpg\n",
      "banded/banded_0019.jpg\n",
      "banded/banded_0033.jpg\n",
      "banded/banded_0011.jpg\n",
      "banded/banded_0013.jpg\n",
      "=================================================================================================================\n",
      "banded/banded_0021.jpg\n"
     ]
    }
   ],
   "source": [
    "# Measure the retrieval time for Deep features\n",
    "start = time.time()\n",
    "\n",
    "# Flatten the query VGG16 features\n",
    "query_flat_vgg16 = query_vgg16_features.flatten()\n",
    "\n",
    "# Flatten the training VGG16 features\n",
    "train_flat_vgg16 = [feature.flatten() for feature in train_vgg16_features]\n",
    "\n",
    "# Calculate distances between the query and all training images based on VGG16 features\n",
    "distances_deep = [distance(query_flat_vgg16, train_flat_vgg16[i]) for i in range(len(train_flat_vgg16))]\n",
    "idx_closest_10_deep = sorted(range(len(distances_deep)), key=lambda k: distances_deep[k])[:10]\n",
    "\n",
    "# Display retrieval time\n",
    "print('Retrieval time (Deep Features):', time.time() - start)\n",
    "print('=================================================================================================================')\n",
    "\n",
    "# Retrieve and display the paths of the top 10 closest images for Deep features\n",
    "closest_images_10_deep = [train_image_paths[i] for i in idx_closest_10_deep]\n",
    "print('\\n'.join(closest_images_10_deep))\n",
    "print('=================================================================================================================')\n",
    "\n",
    "# Retrieve and display the path of the closest image for Deep features\n",
    "closest_images_1_deep = [train_image_paths[i] for i in idx_closest_10_deep[:1]]\n",
    "print('\\n'.join(closest_images_1_deep))\n"
   ]
  },
  {
   "cell_type": "code",
   "execution_count": 29,
   "id": "cc1c6e77",
   "metadata": {
    "scrolled": true
   },
   "outputs": [
    {
     "name": "stdout",
     "output_type": "stream",
     "text": [
      "Retrieval time (Combined Features): 0.11548948287963867\n",
      "=================================================================================================================\n",
      "banded/banded_0021.jpg\n",
      "banded/banded_0005.jpg\n",
      "lined/lined_0038.jpg\n",
      "lined/lined_0037.jpg\n",
      "lined/lined_0166.jpg\n",
      "lined/lined_0067.jpg\n",
      "banded/banded_0019.jpg\n",
      "banded/banded_0033.jpg\n",
      "banded/banded_0011.jpg\n",
      "banded/banded_0013.jpg\n",
      "=================================================================================================================\n",
      "banded/banded_0021.jpg\n"
     ]
    }
   ],
   "source": [
    "# Measure the retrieval time for the combined features\n",
    "start = time.time()\n",
    "\n",
    "# Calculate distances between the query and all training images based on combined features\n",
    "distances_combined = [distance(query_combined_pca_features, train_combined_pca_features[i]) for i in range(len(train_combined_pca_features))]\n",
    "idx_closest_10_combined = sorted(range(len(distances_combined)), key=lambda k: distances_combined[k])[:10]\n",
    "\n",
    "# Display retrieval time\n",
    "print('Retrieval time (Combined Features):', time.time() - start)\n",
    "print('=================================================================================================================')\n",
    "\n",
    "# Retrieve and display the paths of the top 10 closest images for combined features\n",
    "closest_images_10_combined = [train_image_paths[i] for i in idx_closest_10_combined]\n",
    "print('\\n'.join(closest_images_10_combined))\n",
    "print('=================================================================================================================')\n",
    "\n",
    "# Retrieve and display the path of the closest image for combined features\n",
    "closest_images_1_combined = [train_image_paths[i] for i in idx_closest_10_combined[:1]]\n",
    "print('\\n'.join(closest_images_1_combined))"
   ]
  },
  {
   "cell_type": "markdown",
   "id": "6113f79a",
   "metadata": {},
   "source": [
    "# Evaluation metrics:"
   ]
  },
  {
   "cell_type": "code",
   "execution_count": 30,
   "id": "92d92e52",
   "metadata": {},
   "outputs": [],
   "source": [
    "def calculate_precision_recall(distances, query_path):\n",
    "    sorted_images_indices = sorted(range(len(distances)), key=lambda k: distances[k])\n",
    "    \n",
    "    # the label of the query image is already in its own path\n",
    "    query_class = os.path.basename(os.path.dirname(query_path))\n",
    "    \n",
    "    # gather all the images of the same label as the query's in the training sorted images \n",
    "    num_all_relevant_train = sum(\n",
    "        1 for i in sorted_images_indices if query_class == os.path.basename(os.path.dirname(train_image_paths[i]))\n",
    "    )\n",
    "    \n",
    "    precisions = []\n",
    "    recalls = []\n",
    "    \n",
    "    if num_all_relevant_train == 0:\n",
    "        return [], []  # Return empty lists if there are no relevant training images (of the same class)\n",
    "    \n",
    "    num_predicted_well = 0\n",
    "    for i, retrieved_image_index in enumerate(sorted_images_indices):\n",
    "        num_retrieved = i + 1\n",
    "        if query_class == os.path.basename(os.path.dirname(train_image_paths[retrieved_image_index])):\n",
    "            num_predicted_well += 1\n",
    "        precisions.append(num_predicted_well / num_retrieved)\n",
    "        recalls.append(num_predicted_well / num_all_relevant_train)\n",
    "    \n",
    "    return precisions, recalls\n"
   ]
  },
  {
   "cell_type": "code",
   "execution_count": 31,
   "id": "6f42a966",
   "metadata": {},
   "outputs": [],
   "source": [
    "import matplotlib.pyplot as plt\n",
    "\n",
    "def plot_precision_recall_curve(precisions, recalls):\n",
    "    \"\"\"\n",
    "    Plot the precision-recall curve.\n",
    "    \"\"\"\n",
    "    plt.plot(recalls, precisions)\n",
    "    plt.xlabel('Recall')\n",
    "    plt.ylabel('Precision')\n",
    "    plt.title('Precision-Recall Curve')\n",
    "    plt.show()\n"
   ]
  },
  {
   "cell_type": "code",
   "execution_count": 32,
   "id": "c6bd9f8e",
   "metadata": {
    "scrolled": false
   },
   "outputs": [
    {
     "name": "stdout",
     "output_type": "stream",
     "text": [
      "[0.0, 0.0, 0.0, 0.0, 0.0, 0.0, 0.0, 0.0, 0.0, 0.0, 0.0]\n",
      "[0.0, 0.0, 0.0, 0.0, 0.0, 0.0, 0.0, 0.0, 0.0, 0.0, 0.0]\n"
     ]
    },
    {
     "data": {
      "image/png": "[encoded data removed]",
      "text/plain": [
       "<Figure size 432x288 with 1 Axes>"
      ]
     },
     "metadata": {
      "needs_background": "light"
     },
     "output_type": "display_data"
    }
   ],
   "source": [
    "# Assuming test_image_paths is a list containing file paths of test images\n",
    "query_image_path_color = test_image_paths[0]\n",
    "\n",
    "# Calculate precision-recall for PCA + Color Histogram feature\n",
    "precisions_pca_color, recalls_pca_color = calculate_precision_recall(distances_color, query_image_path_color)\n",
    "\n",
    "# Print and plot the results\n",
    "print(precisions_pca_color[:11])\n",
    "print(recalls_pca_color[:11])\n",
    "\n",
    "# Plot the precision-recall curve\n",
    "plot_precision_recall_curve(precisions_pca_color, recalls_pca_color)\n"
   ]
  },
  {
   "cell_type": "code",
   "execution_count": 33,
   "id": "56f36bdd",
   "metadata": {},
   "outputs": [
    {
     "name": "stdout",
     "output_type": "stream",
     "text": [
      "[0.0, 0.0, 0.0, 0.0, 0.0, 0.0, 0.0, 0.0, 0.0, 0.0, 0.0]\n",
      "[0.0, 0.0, 0.0, 0.0, 0.0, 0.0, 0.0, 0.0, 0.0, 0.0, 0.0]\n"
     ]
    },
    {
     "data": {
      "image/png": "[encoded data removed]",
      "text/plain": [
       "<Figure size 432x288 with 1 Axes>"
      ]
     },
     "metadata": {
      "needs_background": "light"
     },
     "output_type": "display_data"
    }
   ],
   "source": [
    "\n",
    "# Assuming test_image_paths is a list containing file paths of test images\n",
    "query_image_path_dct = test_image_paths[0]\n",
    "\n",
    "# Calculate precision-recall for PCA + DCT feature\n",
    "precisions_pca_dct, recalls_pca_dct = calculate_precision_recall(distances_dct, query_image_path_dct)\n",
    "\n",
    "# Print and plot the results\n",
    "print(precisions_pca_dct[:11])\n",
    "print(recalls_pca_dct[:11])\n",
    "\n",
    "# Plot the precision-recall curve\n",
    "plot_precision_recall_curve(precisions_pca_dct, recalls_pca_dct)\n",
    "\n"
   ]
  },
  {
   "cell_type": "code",
   "execution_count": 35,
   "id": "032af925",
   "metadata": {},
   "outputs": [
    {
     "name": "stdout",
     "output_type": "stream",
     "text": [
      "[0.0, 0.5, 0.3333333333333333, 0.25, 0.2, 0.16666666666666666, 0.2857142857142857, 0.25, 0.2222222222222222, 0.2, 0.18181818181818182]\n",
      "[0.0, 0.025, 0.025, 0.025, 0.025, 0.025, 0.05, 0.05, 0.05, 0.05, 0.05]\n"
     ]
    },
    {
     "data": {
      "image/png": "[encoded data removed]",
      "text/plain": [
       "<Figure size 432x288 with 1 Axes>"
      ]
     },
     "metadata": {
      "needs_background": "light"
     },
     "output_type": "display_data"
    }
   ],
   "source": [
    "# Assuming test_image_paths is a list containing file paths of test images\n",
    "query_image_path_lbp = test_image_paths[0]\n",
    "\n",
    "# Calculate precision-recall for LBP feature\n",
    "precisions_lbp, recalls_lbp = calculate_precision_recall(distances_lbp, query_image_path_lbp)\n",
    "\n",
    "# Print and plot the results\n",
    "print(precisions_lbp[:11])\n",
    "print(recalls_lbp[:11])\n",
    "\n",
    "# Plot the precision-recall curve\n",
    "plot_precision_recall_curve(precisions_lbp, recalls_lbp)\n"
   ]
  },
  {
   "cell_type": "code",
   "execution_count": 36,
   "id": "75adf378",
   "metadata": {},
   "outputs": [
    {
     "name": "stdout",
     "output_type": "stream",
     "text": [
      "[1.0, 1.0, 0.6666666666666666, 0.5, 0.4, 0.3333333333333333, 0.42857142857142855, 0.5, 0.5555555555555556, 0.6, 0.5454545454545454]\n",
      "[0.025, 0.05, 0.05, 0.05, 0.05, 0.05, 0.075, 0.1, 0.125, 0.15, 0.15]\n"
     ]
    },
    {
     "data": {
      "image/png": "[encoded data removed]",
      "text/plain": [
       "<Figure size 432x288 with 1 Axes>"
      ]
     },
     "metadata": {
      "needs_background": "light"
     },
     "output_type": "display_data"
    }
   ],
   "source": [
    "# Calculate precision-recall for deep features\n",
    "precisions_pca_deep, recalls_pca_deep = calculate_precision_recall(distances_deep, test_image_paths[0])\n",
    "\n",
    "# Print and plot the results\n",
    "print(precisions_pca_deep[:11])\n",
    "print(recalls_pca_deep[:11])\n",
    "\n",
    "# Plot the precision-recall curve\n",
    "plot_precision_recall_curve(precisions_pca_deep, recalls_pca_deep)"
   ]
  },
  {
   "cell_type": "code",
   "execution_count": 39,
   "id": "2c6c3461",
   "metadata": {},
   "outputs": [
    {
     "name": "stdout",
     "output_type": "stream",
     "text": [
      "[1.0, 1.0, 0.6666666666666666, 0.5, 0.4, 0.3333333333333333, 0.42857142857142855, 0.5, 0.5555555555555556, 0.6, 0.5454545454545454]\n",
      "[0.025, 0.05, 0.05, 0.05, 0.05, 0.05, 0.075, 0.1, 0.125, 0.15, 0.15]\n"
     ]
    },
    {
     "data": {
      "image/png": "[encoded data removed]",
      "text/plain": [
       "<Figure size 432x288 with 1 Axes>"
      ]
     },
     "metadata": {
      "needs_background": "light"
     },
     "output_type": "display_data"
    }
   ],
   "source": [
    "precisions_pca_combined, recalls_pca_combined = calculate_precision_recall(distances_combined,  test_image_paths[0])\n",
    "\n",
    "print(precisions_pca_combined[:11])\n",
    "print(recalls_pca_combined[:11])\n",
    "\n",
    "plot_precision_recall_curve(precisions_pca_combined, recalls_pca_combined)"
   ]
  }
 ],
 "metadata": {
  "kernelspec": {
   "display_name": "Python 3 (ipykernel)",
   "language": "python",
   "name": "python3"
  },
  "language_info": {
   "codemirror_mode": {
    "name": "ipython",
    "version": 3
   },
   "file_extension": ".py",
   "mimetype": "text/x-python",
   "name": "python",
   "nbconvert_exporter": "python",
   "pygments_lexer": "ipython3",
   "version": "3.9.7"
  }
 },
 "nbformat": 4,
 "nbformat_minor": 5
}
